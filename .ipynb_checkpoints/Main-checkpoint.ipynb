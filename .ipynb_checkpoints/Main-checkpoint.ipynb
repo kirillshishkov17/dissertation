{
 "cells": [
  {
   "cell_type": "code",
   "execution_count": 32,
   "id": "4bfddba9-36fa-4615-800d-da8e3d2b72ba",
   "metadata": {},
   "outputs": [
    {
     "name": "stdout",
     "output_type": "stream",
     "text": [
      "Расчётная мощность: 4.68 МВт\n",
      "Ожидаемая мощность: 4.5 МВт\n",
      "Погрешность: 3.90 %\n"
     ]
    }
   ],
   "source": [
    "# Проверка модели с указанными параметрами\n",
    "from turbine_model import calc_turbine_power\n",
    "import numpy as np\n",
    "\n",
    "# Параметры из статьи\n",
    "alpha = 0.33\n",
    "gamma = 0  # градусы\n",
    "beta = 0   # градусы\n",
    "u = 9     # м/с\n",
    "D = 150    # м\n",
    "\n",
    "# Расчёт мощности\n",
    "power = calc_turbine_power(alpha, gamma, beta, u, D)\n",
    "print(f\"Расчётная мощность: {power/1e6:.2f} МВт\")\n",
    "\n",
    "# Ожидаемая мощность для турбины Vestas V150-4.5 MW\n",
    "P_expected = 4.5\n",
    "print(f\"Ожидаемая мощность: {P_expected} МВт\")\n",
    "\n",
    "# Погрешность\n",
    "error = abs(power/1e6 - P_expected)/P_expected * 100\n",
    "print(f\"Погрешность: {error:.2f} %\")"
   ]
  }
 ],
 "metadata": {
  "kernelspec": {
   "display_name": "Python 3 (ipykernel)",
   "language": "python",
   "name": "python3"
  },
  "language_info": {
   "codemirror_mode": {
    "name": "ipython",
    "version": 3
   },
   "file_extension": ".py",
   "mimetype": "text/x-python",
   "name": "python",
   "nbconvert_exporter": "python",
   "pygments_lexer": "ipython3",
   "version": "3.13.2"
  }
 },
 "nbformat": 4,
 "nbformat_minor": 5
}
