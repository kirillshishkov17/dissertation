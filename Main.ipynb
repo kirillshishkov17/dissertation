{
 "cells": [
  {
   "cell_type": "markdown",
   "id": "b98247a5",
   "metadata": {},
   "source": [
    "# Проверка модели с указанными параметрами"
   ]
  },
  {
   "cell_type": "code",
   "execution_count": null,
   "id": "4bfddba9-36fa-4615-800d-da8e3d2b72ba",
   "metadata": {},
   "outputs": [],
   "source": [
    "from turbine_model import calc_turbine_power\n",
    "import numpy as np\n",
    "\n",
    "# Параметры из статьи\n",
    "alpha = 0.33\n",
    "gamma = 0  # градусы\n",
    "beta = 0   # градусы\n",
    "u = 12     # м/с\n",
    "D = 98    # м\n",
    "\n",
    "# Расчёт мощности\n",
    "power = calc_turbine_power(alpha, gamma, beta, u, D)\n",
    "print(f\"Расчётная мощность: {power/1e6:.2f} МВт\")\n",
    "\n",
    "# Ожидаемая мощность для турбины Vestas V150-4.5 MW\n",
    "P_expected = 4.5\n",
    "print(f\"Ожидаемая мощность: {P_expected} МВт\")\n",
    "\n",
    "# Погрешность\n",
    "error = abs(power/1e6 - P_expected)/P_expected * 100\n",
    "print(f\"Погрешность: {error:.2f} %\")"
   ]
  },
  {
   "cell_type": "markdown",
   "id": "99cd770b",
   "metadata": {},
   "source": [
    "# Моделирование в FLORIS"
   ]
  },
  {
   "cell_type": "code",
   "execution_count": 1,
   "id": "571127c9-9918-45e7-9c1b-7dccd8524c78",
   "metadata": {},
   "outputs": [],
   "source": [
    "# Координаты турбин в соответствии с (TableB.2:Layoutanddivisionofwindfarms) 1-я строка 13 турбин\n",
    "coordinates = [[0, 0], [400, 0], [800, -800], [800, -400], [1200, 0], [1200, -800], [1600, -400], [1600, 800], [2000, 400], [2000, 0], [2000, -800], [2400, 400], [2400, -400]]"
   ]
  },
  {
   "cell_type": "code",
   "execution_count": 2,
   "id": "0495cf65",
   "metadata": {},
   "outputs": [
    {
     "ename": "AttributeError",
     "evalue": "The initialization for Core was given extraneous inputs: ['turbine_library']",
     "output_type": "error",
     "traceback": [
      "\u001b[31m---------------------------------------------------------------------------\u001b[39m",
      "\u001b[31mAttributeError\u001b[39m                            Traceback (most recent call last)",
      "\u001b[36mCell\u001b[39m\u001b[36m \u001b[39m\u001b[32mIn[2]\u001b[39m\u001b[32m, line 4\u001b[39m\n\u001b[32m      1\u001b[39m \u001b[38;5;28;01mfrom\u001b[39;00m\u001b[38;5;250m \u001b[39m\u001b[34;01mfloris\u001b[39;00m\u001b[38;5;250m \u001b[39m\u001b[38;5;28;01mimport\u001b[39;00m FlorisModel\n\u001b[32m      3\u001b[39m \u001b[38;5;66;03m# Инициализация модели с конфигом gch.yaml\u001b[39;00m\n\u001b[32m----> \u001b[39m\u001b[32m4\u001b[39m fmodel = \u001b[43mFlorisModel\u001b[49m\u001b[43m(\u001b[49m\u001b[33;43m\"\u001b[39;49m\u001b[33;43mgch.yaml\u001b[39;49m\u001b[33;43m\"\u001b[39;49m\u001b[43m)\u001b[49m\n\u001b[32m      6\u001b[39m fmodel.set(\n\u001b[32m      7\u001b[39m     layout_x=[x \u001b[38;5;28;01mfor\u001b[39;00m x, _ \u001b[38;5;129;01min\u001b[39;00m coordinates],\n\u001b[32m      8\u001b[39m     layout_y=[y \u001b[38;5;28;01mfor\u001b[39;00m _, y \u001b[38;5;129;01min\u001b[39;00m coordinates],\n\u001b[32m   (...)\u001b[39m\u001b[32m     11\u001b[39m     turbulence_intensities=[\u001b[32m0.1\u001b[39m] \u001b[38;5;66;03m# Турбулентность I0\u001b[39;00m\n\u001b[32m     12\u001b[39m )\n\u001b[32m     13\u001b[39m fmodel.run()\n",
      "\u001b[36mFile \u001b[39m\u001b[32md:\\Kirill\\Университет\\ИТМО\\Аспирантура\\Диссертация\\Диссертация_v3\\development\\.venv\\Lib\\site-packages\\floris\\floris_model.py:80\u001b[39m, in \u001b[36mFlorisModel.__init__\u001b[39m\u001b[34m(self, configuration)\u001b[39m\n\u001b[32m     78\u001b[39m \u001b[38;5;28;01mif\u001b[39;00m \u001b[38;5;28misinstance\u001b[39m(\u001b[38;5;28mself\u001b[39m.configuration, (\u001b[38;5;28mstr\u001b[39m, Path)):\n\u001b[32m     79\u001b[39m     \u001b[38;5;28;01mtry\u001b[39;00m:\n\u001b[32m---> \u001b[39m\u001b[32m80\u001b[39m         \u001b[38;5;28mself\u001b[39m.core = \u001b[43mCore\u001b[49m\u001b[43m.\u001b[49m\u001b[43mfrom_file\u001b[49m\u001b[43m(\u001b[49m\u001b[38;5;28;43mself\u001b[39;49m\u001b[43m.\u001b[49m\u001b[43mconfiguration\u001b[49m\u001b[43m)\u001b[49m\n\u001b[32m     81\u001b[39m     \u001b[38;5;28;01mexcept\u001b[39;00m \u001b[38;5;167;01mFileNotFoundError\u001b[39;00m:\n\u001b[32m     82\u001b[39m         \u001b[38;5;66;03m# If the file cannot be found, then attempt the configuration path relative to the\u001b[39;00m\n\u001b[32m     83\u001b[39m         \u001b[38;5;66;03m# file location from which FlorisModel was attempted to be run. If successful,\u001b[39;00m\n\u001b[32m     84\u001b[39m         \u001b[38;5;66;03m# update self.configuration to an absolute, working file path and name.\u001b[39;00m\n\u001b[32m     85\u001b[39m         base_fn = Path(inspect.stack()[-\u001b[32m1\u001b[39m].filename).resolve().parent\n",
      "\u001b[36mFile \u001b[39m\u001b[32md:\\Kirill\\Университет\\ИТМО\\Аспирантура\\Диссертация\\Диссертация_v3\\development\\.venv\\Lib\\site-packages\\floris\\core\\core.py:366\u001b[39m, in \u001b[36mCore.from_file\u001b[39m\u001b[34m(cls, input_file_path)\u001b[39m\n\u001b[32m    364\u001b[39m input_dict = load_yaml(Path(input_file_path).resolve())\n\u001b[32m    365\u001b[39m check_input_file_for_v3_keys(input_dict)\n\u001b[32m--> \u001b[39m\u001b[32m366\u001b[39m \u001b[38;5;28;01mreturn\u001b[39;00m \u001b[43mCore\u001b[49m\u001b[43m.\u001b[49m\u001b[43mfrom_dict\u001b[49m\u001b[43m(\u001b[49m\u001b[43minput_dict\u001b[49m\u001b[43m)\u001b[49m\n",
      "\u001b[36mFile \u001b[39m\u001b[32md:\\Kirill\\Университет\\ИТМО\\Аспирантура\\Диссертация\\Диссертация_v3\\development\\.venv\\Lib\\site-packages\\floris\\type_dec.py:215\u001b[39m, in \u001b[36mFromDictMixin.from_dict\u001b[39m\u001b[34m(cls, data)\u001b[39m\n\u001b[32m    213\u001b[39m extra_args = [d \u001b[38;5;28;01mfor\u001b[39;00m d \u001b[38;5;129;01min\u001b[39;00m data \u001b[38;5;28;01mif\u001b[39;00m d \u001b[38;5;129;01mnot\u001b[39;00m \u001b[38;5;129;01min\u001b[39;00m class_attr_names]\n\u001b[32m    214\u001b[39m \u001b[38;5;28;01mif\u001b[39;00m \u001b[38;5;28mlen\u001b[39m(extra_args):\n\u001b[32m--> \u001b[39m\u001b[32m215\u001b[39m     \u001b[38;5;28;01mraise\u001b[39;00m \u001b[38;5;167;01mAttributeError\u001b[39;00m(\n\u001b[32m    216\u001b[39m         \u001b[33mf\u001b[39m\u001b[33m\"\u001b[39m\u001b[33mThe initialization for \u001b[39m\u001b[38;5;132;01m{\u001b[39;00m\u001b[38;5;28mcls\u001b[39m.\u001b[34m__name__\u001b[39m\u001b[38;5;132;01m}\u001b[39;00m\u001b[33m was given extraneous inputs: \u001b[39m\u001b[38;5;132;01m{\u001b[39;00mextra_args\u001b[38;5;132;01m}\u001b[39;00m\u001b[33m\"\u001b[39m\n\u001b[32m    217\u001b[39m     )\n\u001b[32m    219\u001b[39m kwargs = {a.name: data[a.name] \u001b[38;5;28;01mfor\u001b[39;00m a \u001b[38;5;129;01min\u001b[39;00m \u001b[38;5;28mcls\u001b[39m.__attrs_attrs__ \u001b[38;5;28;01mif\u001b[39;00m a.name \u001b[38;5;129;01min\u001b[39;00m data \u001b[38;5;129;01mand\u001b[39;00m a.init}\n\u001b[32m    221\u001b[39m \u001b[38;5;66;03m# Map the inputs must be provided: 1) must be initialized, 2) no default value defined\u001b[39;00m\n",
      "\u001b[31mAttributeError\u001b[39m: The initialization for Core was given extraneous inputs: ['turbine_library']"
     ]
    }
   ],
   "source": [
    "from floris import FlorisModel\n",
    "\n",
    "# Инициализация модели с конфигом gch.yaml\n",
    "fmodel = FlorisModel(\"gch.yaml\")\n",
    "\n",
    "fmodel.set(\n",
    "    layout_x=[x for x, _ in coordinates],\n",
    "    layout_y=[y for _, y in coordinates],\n",
    "    wind_directions=[270.0],     # Направление ветра (градусы)\n",
    "    wind_speeds=[8.0],           # Скорость ветра (м/с)\n",
    "    turbulence_intensities=[0.1] # Турбулентность I0\n",
    ")\n",
    "fmodel.run()"
   ]
  },
  {
   "cell_type": "code",
   "execution_count": null,
   "id": "93d1d6de",
   "metadata": {},
   "outputs": [],
   "source": [
    "# Мощности турбин (Вт)\n",
    "powers = fmodel.get_turbine_powers()  \n",
    "print(\"Мощности:\", powers / 1e6, \"МВт\")\n",
    "\n",
    "# Скорости ветра на роторах\n",
    "velocities = fmodel.core.flow_field.u\n",
    "print(\"Скорости:\", velocities, \"м/с\")"
   ]
  },
  {
   "cell_type": "code",
   "execution_count": null,
   "id": "8d4531fc",
   "metadata": {},
   "outputs": [],
   "source": [
    "import matplotlib.pyplot as plt\n",
    "from floris.flow_visualization import visualize_cut_plane\n",
    "\n",
    "# Рассчитать горизонтальную плоскость\n",
    "plane = fmodel.calculate_horizontal_plane(height=90.0)\n",
    "\n",
    "# Визуализировать с помощью специальной функции\n",
    "fig, ax = plt.subplots()\n",
    "visualize_cut_plane(\n",
    "    plane,\n",
    "    ax=ax,\n",
    "    title=\"Поле скоростей ветра\",\n",
    "    color_bar_label=\"Скорость (м/с)\",\n",
    "    cmap=\"viridis\"\n",
    ")\n",
    "plt.show()\n"
   ]
  }
 ],
 "metadata": {
  "kernelspec": {
   "display_name": ".venv",
   "language": "python",
   "name": "python3"
  },
  "language_info": {
   "codemirror_mode": {
    "name": "ipython",
    "version": 3
   },
   "file_extension": ".py",
   "mimetype": "text/x-python",
   "name": "python",
   "nbconvert_exporter": "python",
   "pygments_lexer": "ipython3",
   "version": "3.13.2"
  }
 },
 "nbformat": 4,
 "nbformat_minor": 5
}
